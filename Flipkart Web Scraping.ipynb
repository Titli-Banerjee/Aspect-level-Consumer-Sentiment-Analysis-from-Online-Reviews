{
 "cells": [
  {
   "cell_type": "code",
   "execution_count": 1,
   "id": "7bd7dab1",
   "metadata": {},
   "outputs": [],
   "source": [
    "#pip install tqdm"
   ]
  },
  {
   "cell_type": "code",
   "execution_count": 2,
   "id": "2d31b7d1",
   "metadata": {},
   "outputs": [],
   "source": [
    "import numpy as np\n",
    "import pandas as pd\n",
    "import requests\n",
    "from bs4 import BeautifulSoup\n",
    "from tqdm import tqdm"
   ]
  },
  {
   "cell_type": "code",
   "execution_count": 3,
   "id": "cb8189ba",
   "metadata": {},
   "outputs": [],
   "source": [
    "BASE_URL = 'https://www.flipkart.com'\n",
    "SEARCH_QUERY = 'smart watches'\n",
    "BRANDS=['Noise', 'boAt','Fire-Boltt']\n",
    "REVIEW_PAGES_TO_SCRAPE = 100\n",
    "\n",
    "def getSoup(url):\n",
    "    r =requests.get(url)\n",
    "    soup = BeautifulSoup(r.content, 'html.parser')\n",
    "    return soup\n",
    "\n",
    "\n",
    "def getProducts(url):\n",
    "    product_links = []\n",
    "    soup = getSoup(url)\n",
    "    for item in soup.find_all('a', class_='_1fQZEK'):\n",
    "        link = BASE_URL + item.get('href')\n",
    "        name = item.find_next('div', class_='_4rR01T')\n",
    "        product_links.append({'link': link,\n",
    "                             'name' : name})\n",
    "    return product_links\n",
    " \n",
    "\n",
    "def getProductData(url):\n",
    "    soup = getSoup(url)\n",
    "    m_no = soup.find('td', string='Model Number').find_next_sibling(\"td\").string\n",
    "    m_name = soup.find('td', string='Model Name').find_next_sibling(\"td\").string\n",
    "    review_link = BASE_URL + soup.find('div', string='Ratings & Reviews').find_parent('div', class_='_3HKIdy').find_next_sibling('a').get('href')\n",
    "    reviews = getReviews(review_link)\n",
    "    d = {'Model_no':m_no,\n",
    "        'Model_name':m_name,\n",
    "        'Reviews':reviews}\n",
    "    return d\n",
    "    \n",
    "    \n",
    "def getReviews(url):\n",
    "    reviews_list = []\n",
    "    for i in tqdm(range(1,REVIEW_PAGES_TO_SCRAPE+1)):\n",
    "        soup = getSoup(url+'&page='+str(i))\n",
    "        for item in soup.find_all('div', class_='col _2wzgFH K0kLPL'):\n",
    "            try :\n",
    "                rating = item.find_next().find_next().text\n",
    "                review_text = item.find_next('div', class_='t-ZTKy').find_next().find_next().text\n",
    "                reviewer = item.find_next('p', class_='_2sc7ZR _2V5EHH').text\n",
    "                city = (item.find_next('p', class_='_2mcZGG').find_next().find_next().text).split(',')[1]\n",
    "                reviews_list.append({'rating':rating,\n",
    "                         'review':review_text,\n",
    "                         'reviewer':reviewer,\n",
    "                         'city':city})\n",
    "            except :\n",
    "                continue\n",
    "    return reviews_list          "
   ]
  },
  {
   "cell_type": "code",
   "execution_count": 4,
   "id": "f1920bcd",
   "metadata": {},
   "outputs": [
    {
     "name": "stdout",
     "output_type": "stream",
     "text": [
      "Working for Noise\n",
      "\n"
     ]
    },
    {
     "name": "stderr",
     "output_type": "stream",
     "text": [
      "100%|████████████████████████████████████████████████████████████████████████████████████████████████████████████████████████████████████| 100/100 [01:20<00:00,  1.24it/s]\n",
      "100%|████████████████████████████████████████████████████████████████████████████████████████████████████████████████████████████████████| 100/100 [01:23<00:00,  1.20it/s]\n",
      "100%|████████████████████████████████████████████████████████████████████████████████████████████████████████████████████████████████████| 100/100 [01:35<00:00,  1.05it/s]\n",
      "100%|████████████████████████████████████████████████████████████████████████████████████████████████████████████████████████████████████| 100/100 [01:16<00:00,  1.31it/s]\n",
      "100%|████████████████████████████████████████████████████████████████████████████████████████████████████████████████████████████████████| 100/100 [01:37<00:00,  1.02it/s]\n",
      "100%|████████████████████████████████████████████████████████████████████████████████████████████████████████████████████████████████████| 100/100 [01:36<00:00,  1.04it/s]\n",
      "100%|████████████████████████████████████████████████████████████████████████████████████████████████████████████████████████████████████| 100/100 [01:41<00:00,  1.01s/it]\n",
      "100%|████████████████████████████████████████████████████████████████████████████████████████████████████████████████████████████████████| 100/100 [01:52<00:00,  1.13s/it]\n",
      "100%|████████████████████████████████████████████████████████████████████████████████████████████████████████████████████████████████████| 100/100 [02:07<00:00,  1.27s/it]\n"
     ]
    },
    {
     "name": "stdout",
     "output_type": "stream",
     "text": [
      "Writing to file..\n",
      "Working for boAt\n",
      "\n"
     ]
    },
    {
     "name": "stderr",
     "output_type": "stream",
     "text": [
      "100%|████████████████████████████████████████████████████████████████████████████████████████████████████████████████████████████████████| 100/100 [01:37<00:00,  1.03it/s]\n",
      "100%|████████████████████████████████████████████████████████████████████████████████████████████████████████████████████████████████████| 100/100 [01:35<00:00,  1.05it/s]\n",
      "100%|████████████████████████████████████████████████████████████████████████████████████████████████████████████████████████████████████| 100/100 [01:32<00:00,  1.08it/s]\n",
      "100%|████████████████████████████████████████████████████████████████████████████████████████████████████████████████████████████████████| 100/100 [01:29<00:00,  1.12it/s]\n",
      "100%|████████████████████████████████████████████████████████████████████████████████████████████████████████████████████████████████████| 100/100 [02:13<00:00,  1.34s/it]\n",
      "100%|████████████████████████████████████████████████████████████████████████████████████████████████████████████████████████████████████| 100/100 [01:44<00:00,  1.05s/it]\n",
      "100%|████████████████████████████████████████████████████████████████████████████████████████████████████████████████████████████████████| 100/100 [01:42<00:00,  1.02s/it]\n",
      "100%|████████████████████████████████████████████████████████████████████████████████████████████████████████████████████████████████████| 100/100 [01:34<00:00,  1.06it/s]\n",
      "100%|████████████████████████████████████████████████████████████████████████████████████████████████████████████████████████████████████| 100/100 [01:25<00:00,  1.17it/s]\n",
      "100%|████████████████████████████████████████████████████████████████████████████████████████████████████████████████████████████████████| 100/100 [01:46<00:00,  1.07s/it]\n"
     ]
    },
    {
     "name": "stdout",
     "output_type": "stream",
     "text": [
      "Writing to file..\n",
      "Working for Fire-Boltt\n",
      "\n"
     ]
    },
    {
     "name": "stderr",
     "output_type": "stream",
     "text": [
      "100%|████████████████████████████████████████████████████████████████████████████████████████████████████████████████████████████████████| 100/100 [01:54<00:00,  1.14s/it]\n",
      "100%|████████████████████████████████████████████████████████████████████████████████████████████████████████████████████████████████████| 100/100 [01:36<00:00,  1.04it/s]\n",
      "100%|████████████████████████████████████████████████████████████████████████████████████████████████████████████████████████████████████| 100/100 [01:14<00:00,  1.34it/s]\n",
      "100%|████████████████████████████████████████████████████████████████████████████████████████████████████████████████████████████████████| 100/100 [01:36<00:00,  1.04it/s]\n",
      "100%|████████████████████████████████████████████████████████████████████████████████████████████████████████████████████████████████████| 100/100 [01:24<00:00,  1.19it/s]"
     ]
    },
    {
     "name": "stdout",
     "output_type": "stream",
     "text": [
      "Writing to file..\n"
     ]
    },
    {
     "name": "stderr",
     "output_type": "stream",
     "text": [
      "\n"
     ]
    }
   ],
   "source": [
    "SEARCH_URL = None\n",
    "for BRAND in BRANDS:\n",
    "    print('Working for {}\\n'.format(BRAND))\n",
    "    PRODUCTS = []\n",
    "    p_links = []\n",
    "    seen = []\n",
    "    SEARCH_URL = BASE_URL+'/search?q='+SEARCH_QUERY+'&p[]=facets.brand[]='+BRAND\n",
    "    p_list = getProducts(SEARCH_URL)\n",
    "    \n",
    "    #remove duplicate products\n",
    "    for p in p_list:\n",
    "        if p.get('name') not in seen:\n",
    "            seen.append(p.get('name'))\n",
    "            p_links.append(p.get('link'))\n",
    "    \n",
    "    for link in p_links:\n",
    "        d = getProductData(link)\n",
    "        for review in d.get('Reviews'):  \n",
    "            product = {'Brand' : BRAND,\n",
    "                        'Model_no' : d.get('Model_no'),\n",
    "                        'Model_name' : d.get('Model_name'),\n",
    "                        'Reviewer' : review.get('reviewer'),\n",
    "                        'City' : review.get('city'),\n",
    "                        'Rating' : review.get('rating'),\n",
    "                        'Review' : review.get('review') }\n",
    "            PRODUCTS.append(product) \n",
    "            \n",
    "    print('Writing to file..')\n",
    "    df = pd.DataFrame(PRODUCTS)\n",
    "    if(BRAND =='Noise'):\n",
    "        df.to_csv('Reviews_Noise.csv')\n",
    "    elif(BRAND =='boAt'):\n",
    "        df.to_csv('Reviews_boAt.csv')\n",
    "    elif(BRAND =='Fire-Boltt'):\n",
    "        df.to_csv('Reviews_FireBoltt.csv') \n",
    "    "
   ]
  }
 ],
 "metadata": {
  "kernelspec": {
   "display_name": "Python 3 (ipykernel)",
   "language": "python",
   "name": "python3"
  },
  "language_info": {
   "codemirror_mode": {
    "name": "ipython",
    "version": 3
   },
   "file_extension": ".py",
   "mimetype": "text/x-python",
   "name": "python",
   "nbconvert_exporter": "python",
   "pygments_lexer": "ipython3",
   "version": "3.9.7"
  }
 },
 "nbformat": 4,
 "nbformat_minor": 5
}
