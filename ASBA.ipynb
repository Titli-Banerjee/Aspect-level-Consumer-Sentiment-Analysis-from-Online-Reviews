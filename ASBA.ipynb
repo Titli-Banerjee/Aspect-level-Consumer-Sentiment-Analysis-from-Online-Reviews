{
 "cells": [
  {
   "cell_type": "code",
   "execution_count": 2,
   "id": "67f14943",
   "metadata": {},
   "outputs": [
    {
     "data": {
      "text/plain": [
       "'\\n!pip install monkeylearn\\n!pip install opendatasets\\n!pip install contractions\\n!pip install textBlob\\n!pip install spacy\\n\\n'"
      ]
     },
     "execution_count": 2,
     "metadata": {},
     "output_type": "execute_result"
    }
   ],
   "source": [
    "\"\"\"\n",
    "!pip install monkeylearn\n",
    "!pip install opendatasets\n",
    "!pip install contractions\n",
    "!pip install textBlob\n",
    "!pip install spacy\n",
    "\n",
    "\"\"\""
   ]
  },
  {
   "cell_type": "code",
   "execution_count": 1,
   "id": "ce1618f4",
   "metadata": {},
   "outputs": [],
   "source": [
    "# library imports\n",
    "import pandas as pd\n",
    "import opendatasets\n",
    "import contractions\n",
    "from monkeylearn import MonkeyLearn\n",
    "from textblob import TextBlob\n",
    "from tqdm.notebook import tqdm_notebook\n",
    "from collections import Counter\n",
    "import matplotlib.pyplot as plt\n",
    "import seaborn as sns\n",
    "import numpy as np\n",
    "import warnings\n",
    "import time\n",
    "import spacy\n",
    "import re\n",
    "sns.set_palette('viridis')"
   ]
  },
  {
   "cell_type": "code",
   "execution_count": 2,
   "id": "0bd6d2f0",
   "metadata": {},
   "outputs": [],
   "source": [
    "# !python -m spacy download en_core_web_sm\n",
    "# load a trained English pipeline \n",
    "nlp = spacy.load(\"en_core_web_sm\")\n",
    "\n",
    "# initiate tqdm for pandas.apply() functions\n",
    "tqdm_notebook.pandas()"
   ]
  },
  {
   "cell_type": "code",
   "execution_count": 3,
   "id": "e28149f5",
   "metadata": {},
   "outputs": [],
   "source": [
    "# suppress all warnings\n",
    "warnings.simplefilter('ignore')\n",
    "\n",
    "# expand notebook display options for dataframes\n",
    "pd.set_option('display.max_colwidth', 200)\n",
    "pd.options.display.max_columns = 999\n",
    "pd.options.display.max_rows = 300"
   ]
  },
  {
   "cell_type": "code",
   "execution_count": 4,
   "id": "593db771",
   "metadata": {},
   "outputs": [],
   "source": [
    "noise = pd.read_csv('Reviews_Noise.csv')\n",
    "boat = pd.read_csv('Reviews_boAt.csv')\n",
    "fireboltt = pd.read_csv('Reviews_FireBoltt.csv')\n",
    "\n",
    "df = pd.concat([noise,boat,fireboltt])\n",
    "df = df.iloc[:, 1:]"
   ]
  },
  {
   "cell_type": "code",
   "execution_count": 5,
   "id": "aa3d1f6e",
   "metadata": {},
   "outputs": [],
   "source": [
    "df_review = df.iloc[:,5:]\n",
    "\n",
    "# make all characters uniformly lowercase\n",
    "df_review['Review'] = df_review['Review'].apply(lambda x: x.lower())"
   ]
  },
  {
   "cell_type": "code",
   "execution_count": 6,
   "id": "c56a3eb8",
   "metadata": {},
   "outputs": [],
   "source": [
    "df_band = df_review[(df_review['Review'].str.contains(r'band?\\b')) |\n",
    "                       (df_review['Review'].str.contains(r'strap?\\b'))]\n",
    "\n",
    "df_battery = df_review[(df_review['Review'].str.contains(r'battery?\\b')) |\n",
    "                       (df_review['Review'].str.contains(r'backup?\\b'))]\n",
    "\n",
    "df_display = df_review[(df_review['Review'].str.contains(r'display?\\b')) |\n",
    "                      (df_review['Review'].str.contains(r'notification?\\b'))]\n",
    "                    \n",
    "df_design = df_review[(df_review['Review'].str.contains(r'design?\\b')) |\n",
    "                      (df_review['Review'].str.contains(r'look?\\b'))]\n",
    "\n",
    "df_price = df_review[(df_review['Review'].str.contains(r'price?\\b')) |\n",
    "                       (df_review['Review'].str.contains(r'money?\\b')) |\n",
    "                    (df_review['Review'].str.contains(r'value?\\b'))]\n",
    "\n",
    "#df_a_tracking = df_review[(df_review['Review'].str.contains(r'spo2?\\b')) |\n",
    "                      # (df_review['Review'].str.contains(r'heart?\\b'))]"
   ]
  },
  {
   "cell_type": "code",
   "execution_count": 7,
   "id": "9b01b071",
   "metadata": {},
   "outputs": [
    {
     "name": "stdout",
     "output_type": "stream",
     "text": [
      "(246, 2) (1461, 2) (1147, 2) (803, 2) (2261, 2)\n"
     ]
    }
   ],
   "source": [
    "print(df_band.shape, df_battery.shape, df_display.shape, df_design.shape, df_price.shape)"
   ]
  },
  {
   "cell_type": "code",
   "execution_count": 8,
   "id": "57d2b81a",
   "metadata": {},
   "outputs": [],
   "source": [
    "df_band['Review'] = df_band['Review'].str.replace('strap','band')\n",
    "df_battery['Review'] = df_battery['Review'].str.replace('backup','battery')\n",
    "df_design['Review'] = df_design['Review'].str.replace('look','design')\n",
    "df_price['Review'] = df_price['Review'].str.replace('money','price')\n",
    "df_price['Review'] = df_price['Review'].str.replace('value','price')\n",
    "df_display['Review'] = df_display['Review'].str.replace('notification', 'display')"
   ]
  },
  {
   "cell_type": "code",
   "execution_count": 9,
   "id": "daf01770",
   "metadata": {},
   "outputs": [],
   "source": [
    "def opinion_parser(text, term):\n",
    "    t = []\n",
    "    tokens = text.split(\" \")\n",
    "    try:\n",
    "        ind = tokens.index(term)\n",
    "        start = ind-5\n",
    "        end = ind+11\n",
    "        start = 0 if start < 0 else start\n",
    "        end = len(tokens) if end > len(tokens) else end\n",
    "        for i in range(start, end):\n",
    "            t.append(tokens[i])\n",
    "        return \" \".join(t)\n",
    "    except:\n",
    "        return \"\""
   ]
  },
  {
   "cell_type": "markdown",
   "id": "be0231fe",
   "metadata": {},
   "source": [
    "# instantiate the client using your API key\n",
    "ml = MonkeyLearn('80f628cf42d8d9b77e7dfe59a1a5f4c61e1cbd6b')\n",
    "\n",
    "# opinion unit extractor\n",
    "model_id = 'ex_N4aFcea3'"
   ]
  },
  {
   "cell_type": "markdown",
   "id": "3754fa10",
   "metadata": {},
   "source": [
    "def opinion_parser(text, term):\n",
    "  \"\"\"\n",
    "  Extract the individual opinion unit (or phrase) within the text\n",
    "  that contains the aspect term. \n",
    "  \"\"\"\n",
    "  result = ml.extractors.extract(model_id, [text])\n",
    "  time.sleep(1)\n",
    "  \n",
    "  extractions = result.body[0]['extractions']\n",
    "\n",
    "  opinion_units = []\n",
    "  num__opinion_units = len(extractions)\n",
    "\n",
    "  for i in range(num__opinion_units):\n",
    "    opinion_unit = \"\".join([extractions[i]['extracted_text']])\n",
    "    \n",
    "    if re.search(term, opinion_unit):\n",
    "      return opinion_unit\n",
    "  \n",
    "  return \"\""
   ]
  },
  {
   "cell_type": "code",
   "execution_count": 10,
   "id": "a70ea4f4",
   "metadata": {},
   "outputs": [
    {
     "data": {
      "application/vnd.jupyter.widget-view+json": {
       "model_id": "769e57f348f34f9ea77edfec55c7bc56",
       "version_major": 2,
       "version_minor": 0
      },
      "text/plain": [
       "  0%|          | 0/246 [00:00<?, ?it/s]"
      ]
     },
     "metadata": {},
     "output_type": "display_data"
    },
    {
     "data": {
      "application/vnd.jupyter.widget-view+json": {
       "model_id": "1a5d76838f584c2db8a12bf0cc7e03a8",
       "version_major": 2,
       "version_minor": 0
      },
      "text/plain": [
       "  0%|          | 0/1461 [00:00<?, ?it/s]"
      ]
     },
     "metadata": {},
     "output_type": "display_data"
    },
    {
     "data": {
      "application/vnd.jupyter.widget-view+json": {
       "model_id": "bb0e8534781b4f1eba8ed941f9b77758",
       "version_major": 2,
       "version_minor": 0
      },
      "text/plain": [
       "  0%|          | 0/1147 [00:00<?, ?it/s]"
      ]
     },
     "metadata": {},
     "output_type": "display_data"
    },
    {
     "data": {
      "application/vnd.jupyter.widget-view+json": {
       "model_id": "4ee8a29ee49846eab53751078d132ebc",
       "version_major": 2,
       "version_minor": 0
      },
      "text/plain": [
       "  0%|          | 0/803 [00:00<?, ?it/s]"
      ]
     },
     "metadata": {},
     "output_type": "display_data"
    },
    {
     "data": {
      "application/vnd.jupyter.widget-view+json": {
       "model_id": "921082c2484246f6a2b5de6ff06bb9ad",
       "version_major": 2,
       "version_minor": 0
      },
      "text/plain": [
       "  0%|          | 0/2261 [00:00<?, ?it/s]"
      ]
     },
     "metadata": {},
     "output_type": "display_data"
    }
   ],
   "source": [
    "df_band[\"Opinion\"] = df_band[\"Review\"].progress_apply(opinion_parser, term='band')\n",
    "df_battery[\"Opinion\"] = df_battery[\"Review\"].progress_apply(opinion_parser, term='battery')\n",
    "df_display[\"Opinion\"] = df_display[\"Review\"].progress_apply(opinion_parser, term='display')\n",
    "df_design[\"Opinion\"] = df_design[\"Review\"].progress_apply(opinion_parser, term='design')\n",
    "df_price[\"Opinion\"] = df_price[\"Review\"].progress_apply(opinion_parser, term='price')"
   ]
  },
  {
   "cell_type": "code",
   "execution_count": 11,
   "id": "bb2e96a2",
   "metadata": {},
   "outputs": [
    {
     "data": {
      "text/html": [
       "<div>\n",
       "<style scoped>\n",
       "    .dataframe tbody tr th:only-of-type {\n",
       "        vertical-align: middle;\n",
       "    }\n",
       "\n",
       "    .dataframe tbody tr th {\n",
       "        vertical-align: top;\n",
       "    }\n",
       "\n",
       "    .dataframe thead th {\n",
       "        text-align: right;\n",
       "    }\n",
       "</style>\n",
       "<table border=\"1\" class=\"dataframe\">\n",
       "  <thead>\n",
       "    <tr style=\"text-align: right;\">\n",
       "      <th></th>\n",
       "      <th>Rating</th>\n",
       "      <th>Review</th>\n",
       "      <th>Opinion</th>\n",
       "    </tr>\n",
       "  </thead>\n",
       "  <tbody>\n",
       "    <tr>\n",
       "      <th>13</th>\n",
       "      <td>5</td>\n",
       "      <td>this watch was awesome 👍👍.the battery battery of watch is for 1week or more. tracking device is work excellent .it measures my heart beat and steps etc. very well. i am very happy for buying this ...</td>\n",
       "      <td>this watch was awesome 👍👍.the battery battery of watch is for 1week or more. tracking device</td>\n",
       "    </tr>\n",
       "    <tr>\n",
       "      <th>14</th>\n",
       "      <td>4</td>\n",
       "      <td>battery performance is good. it goes with my style. the display is clear. the band is not sweaty at all. loved it. at this price, they are offering a pretty good bargain. however , the spo2 meter ...</td>\n",
       "      <td>battery performance is good. it goes with my style. the display</td>\n",
       "    </tr>\n",
       "    <tr>\n",
       "      <th>15</th>\n",
       "      <td>5</td>\n",
       "      <td>i got it @ 1600 in this price i just couldn't ask for anything better than this one....display 4.5/5activity 3/5battery 4/5design( comfortable)4.5/5watch face 4/5it's a great buy for the ones who ...</td>\n",
       "      <td></td>\n",
       "    </tr>\n",
       "    <tr>\n",
       "      <th>45</th>\n",
       "      <td>3</td>\n",
       "      <td>looking and battery 🔋 is too good but some fitch er is not good</td>\n",
       "      <td>looking and battery 🔋 is too good but some fitch er is not</td>\n",
       "    </tr>\n",
       "    <tr>\n",
       "      <th>48</th>\n",
       "      <td>1</td>\n",
       "      <td>i am writing this after using this smart watch for more than a month. only concern is that this watch doesn't charge, charger was connected for only 2 times and stopped working. i don't know what'...</td>\n",
       "      <td>what's wrong with this product. battery battery is very good, but what's the use as it</td>\n",
       "    </tr>\n",
       "    <tr>\n",
       "      <th>...</th>\n",
       "      <td>...</td>\n",
       "      <td>...</td>\n",
       "      <td>...</td>\n",
       "    </tr>\n",
       "    <tr>\n",
       "      <th>2410</th>\n",
       "      <td>5</td>\n",
       "      <td>products is good to user friendly with long battery battery easy to 7 days working one time charge.</td>\n",
       "      <td>to user friendly with long battery battery easy to 7 days working one time charge.</td>\n",
       "    </tr>\n",
       "    <tr>\n",
       "      <th>2441</th>\n",
       "      <td>4</td>\n",
       "      <td>battery drains fast when music plays</td>\n",
       "      <td>battery drains fast when music plays</td>\n",
       "    </tr>\n",
       "    <tr>\n",
       "      <th>2473</th>\n",
       "      <td>4</td>\n",
       "      <td>good product. cons - less watch faces and low battery battery.</td>\n",
       "      <td>less watch faces and low battery battery.</td>\n",
       "    </tr>\n",
       "    <tr>\n",
       "      <th>2498</th>\n",
       "      <td>5</td>\n",
       "      <td>very nice products but battery life isn't that much</td>\n",
       "      <td>very nice products but battery life isn't that much</td>\n",
       "    </tr>\n",
       "    <tr>\n",
       "      <th>2508</th>\n",
       "      <td>4</td>\n",
       "      <td>good product. cons - less watch faces and low battery battery.</td>\n",
       "      <td>less watch faces and low battery battery.</td>\n",
       "    </tr>\n",
       "  </tbody>\n",
       "</table>\n",
       "<p>1461 rows × 3 columns</p>\n",
       "</div>"
      ],
      "text/plain": [
       "      Rating  \\\n",
       "13         5   \n",
       "14         4   \n",
       "15         5   \n",
       "45         3   \n",
       "48         1   \n",
       "...      ...   \n",
       "2410       5   \n",
       "2441       4   \n",
       "2473       4   \n",
       "2498       5   \n",
       "2508       4   \n",
       "\n",
       "                                                                                                                                                                                                       Review  \\\n",
       "13    this watch was awesome 👍👍.the battery battery of watch is for 1week or more. tracking device is work excellent .it measures my heart beat and steps etc. very well. i am very happy for buying this ...   \n",
       "14    battery performance is good. it goes with my style. the display is clear. the band is not sweaty at all. loved it. at this price, they are offering a pretty good bargain. however , the spo2 meter ...   \n",
       "15    i got it @ 1600 in this price i just couldn't ask for anything better than this one....display 4.5/5activity 3/5battery 4/5design( comfortable)4.5/5watch face 4/5it's a great buy for the ones who ...   \n",
       "45                                                                                                                                            looking and battery 🔋 is too good but some fitch er is not good   \n",
       "48    i am writing this after using this smart watch for more than a month. only concern is that this watch doesn't charge, charger was connected for only 2 times and stopped working. i don't know what'...   \n",
       "...                                                                                                                                                                                                       ...   \n",
       "2410                                                                                                      products is good to user friendly with long battery battery easy to 7 days working one time charge.   \n",
       "2441                                                                                                                                                                     battery drains fast when music plays   \n",
       "2473                                                                                                                                           good product. cons - less watch faces and low battery battery.   \n",
       "2498                                                                                                                                                      very nice products but battery life isn't that much   \n",
       "2508                                                                                                                                           good product. cons - less watch faces and low battery battery.   \n",
       "\n",
       "                                                                                           Opinion  \n",
       "13    this watch was awesome 👍👍.the battery battery of watch is for 1week or more. tracking device  \n",
       "14                                 battery performance is good. it goes with my style. the display  \n",
       "15                                                                                                  \n",
       "45                                      looking and battery 🔋 is too good but some fitch er is not  \n",
       "48          what's wrong with this product. battery battery is very good, but what's the use as it  \n",
       "...                                                                                            ...  \n",
       "2410            to user friendly with long battery battery easy to 7 days working one time charge.  \n",
       "2441                                                          battery drains fast when music plays  \n",
       "2473                                                     less watch faces and low battery battery.  \n",
       "2498                                           very nice products but battery life isn't that much  \n",
       "2508                                                     less watch faces and low battery battery.  \n",
       "\n",
       "[1461 rows x 3 columns]"
      ]
     },
     "execution_count": 11,
     "metadata": {},
     "output_type": "execute_result"
    }
   ],
   "source": [
    "df_battery"
   ]
  },
  {
   "cell_type": "code",
   "execution_count": 12,
   "id": "00f1465c",
   "metadata": {},
   "outputs": [],
   "source": [
    "def polarity(text):\n",
    "  \"\"\"\n",
    "  Predict the polarity of the text using TextBlob.\n",
    "  Results range from negative to positive on a scale of [-1, +1].\n",
    "  \"\"\"\n",
    "  testimonial = TextBlob(text)\n",
    "  return round(testimonial.sentiment.polarity, 2)"
   ]
  },
  {
   "cell_type": "code",
   "execution_count": 13,
   "id": "b8dc57d9",
   "metadata": {},
   "outputs": [
    {
     "data": {
      "application/vnd.jupyter.widget-view+json": {
       "model_id": "03ff156d2a8a4a199167e55711a1975f",
       "version_major": 2,
       "version_minor": 0
      },
      "text/plain": [
       "  0%|          | 0/246 [00:00<?, ?it/s]"
      ]
     },
     "metadata": {},
     "output_type": "display_data"
    },
    {
     "data": {
      "application/vnd.jupyter.widget-view+json": {
       "model_id": "e0c4554a15404a77a41b4c71bcc8c08f",
       "version_major": 2,
       "version_minor": 0
      },
      "text/plain": [
       "  0%|          | 0/1461 [00:00<?, ?it/s]"
      ]
     },
     "metadata": {},
     "output_type": "display_data"
    },
    {
     "data": {
      "application/vnd.jupyter.widget-view+json": {
       "model_id": "35e860de1f6d4408b77a7c0f03f343e8",
       "version_major": 2,
       "version_minor": 0
      },
      "text/plain": [
       "  0%|          | 0/1147 [00:00<?, ?it/s]"
      ]
     },
     "metadata": {},
     "output_type": "display_data"
    },
    {
     "data": {
      "application/vnd.jupyter.widget-view+json": {
       "model_id": "235bd6da08a4407098f611ff607fb6ac",
       "version_major": 2,
       "version_minor": 0
      },
      "text/plain": [
       "  0%|          | 0/803 [00:00<?, ?it/s]"
      ]
     },
     "metadata": {},
     "output_type": "display_data"
    },
    {
     "data": {
      "application/vnd.jupyter.widget-view+json": {
       "model_id": "d06157dfdafd4b059acbd184e8a7280f",
       "version_major": 2,
       "version_minor": 0
      },
      "text/plain": [
       "  0%|          | 0/2261 [00:00<?, ?it/s]"
      ]
     },
     "metadata": {},
     "output_type": "display_data"
    }
   ],
   "source": [
    "df_band[\"Polarity\"] = df_band[\"Opinion\"].progress_apply(polarity)\n",
    "df_battery[\"Polarity\"] = df_battery[\"Opinion\"].progress_apply(polarity)\n",
    "df_display[\"Polarity\"] = df_display[\"Opinion\"].progress_apply(polarity)\n",
    "df_design[\"Polarity\"] = df_design[\"Opinion\"].progress_apply(polarity)\n",
    "df_price[\"Polarity\"] = df_price[\"Opinion\"].progress_apply(polarity)"
   ]
  },
  {
   "cell_type": "code",
   "execution_count": 14,
   "id": "fe4f8d6b",
   "metadata": {},
   "outputs": [],
   "source": [
    "def sentiment_analysis(score):\n",
    "    if(score < 0):\n",
    "        return \"Neg\"\n",
    "    elif(score > 0):\n",
    "        return \"Pos\"\n",
    "    else:\n",
    "        return \"NA\""
   ]
  },
  {
   "cell_type": "code",
   "execution_count": 15,
   "id": "0f70bcb4",
   "metadata": {},
   "outputs": [],
   "source": [
    "df_band['Sentiment'] = df_band['Polarity'].apply(sentiment_analysis)\n",
    "df_battery['Sentiment'] = df_battery['Polarity'].apply(sentiment_analysis)\n",
    "df_display['Sentiment'] = df_display['Polarity'].apply(sentiment_analysis)\n",
    "df_design['Sentiment'] = df_design['Polarity'].apply(sentiment_analysis)\n",
    "df_price['Sentiment'] = df_price['Polarity'].apply(sentiment_analysis)"
   ]
  },
  {
   "cell_type": "code",
   "execution_count": 16,
   "id": "4df15f74",
   "metadata": {},
   "outputs": [],
   "source": [
    "df_band['Feature'] = 'band'\n",
    "df_battery['Feature'] = 'battery'\n",
    "df_display['Feature'] = 'display'\n",
    "df_design['Feature'] = 'design'\n",
    "df_price['Feature'] = 'price'\n",
    "\n",
    "final = pd.concat([df_battery,df_display,df_design,df_price,df_band])\n",
    "final = final.query('Sentiment != \"NA\"')"
   ]
  },
  {
   "cell_type": "code",
   "execution_count": 17,
   "id": "4c490a2b",
   "metadata": {},
   "outputs": [],
   "source": [
    "a = pd.DataFrame(final.groupby(['Feature','Sentiment'])['Rating'].count()).reset_index()"
   ]
  },
  {
   "cell_type": "code",
   "execution_count": 18,
   "id": "4f87619e",
   "metadata": {},
   "outputs": [],
   "source": [
    "b = pd.DataFrame(a.groupby('Feature')['Rating'].sum()).reset_index()\n",
    "b.rename(columns={'Rating':'Rating_count'}, inplace=True)"
   ]
  },
  {
   "cell_type": "code",
   "execution_count": 19,
   "id": "67fb3410",
   "metadata": {},
   "outputs": [],
   "source": [
    "c= a.merge(b, on='Feature')"
   ]
  },
  {
   "cell_type": "code",
   "execution_count": 20,
   "id": "f4743517",
   "metadata": {},
   "outputs": [],
   "source": [
    "c['Sentiment%'] = (c['Rating']*100)/c['Rating_count']"
   ]
  },
  {
   "cell_type": "code",
   "execution_count": 21,
   "id": "5aeef4df",
   "metadata": {},
   "outputs": [],
   "source": [
    "x = c.iloc[:, [0,1,4]]"
   ]
  },
  {
   "cell_type": "code",
   "execution_count": 22,
   "id": "7cf5b592",
   "metadata": {},
   "outputs": [
    {
     "data": {
      "text/html": [
       "<div>\n",
       "<style scoped>\n",
       "    .dataframe tbody tr th:only-of-type {\n",
       "        vertical-align: middle;\n",
       "    }\n",
       "\n",
       "    .dataframe tbody tr th {\n",
       "        vertical-align: top;\n",
       "    }\n",
       "\n",
       "    .dataframe thead th {\n",
       "        text-align: right;\n",
       "    }\n",
       "</style>\n",
       "<table border=\"1\" class=\"dataframe\">\n",
       "  <thead>\n",
       "    <tr style=\"text-align: right;\">\n",
       "      <th></th>\n",
       "      <th>Feature</th>\n",
       "      <th>Sentiment</th>\n",
       "      <th>Sentiment%</th>\n",
       "    </tr>\n",
       "  </thead>\n",
       "  <tbody>\n",
       "    <tr>\n",
       "      <th>0</th>\n",
       "      <td>band</td>\n",
       "      <td>Neg</td>\n",
       "      <td>14.743590</td>\n",
       "    </tr>\n",
       "    <tr>\n",
       "      <th>1</th>\n",
       "      <td>band</td>\n",
       "      <td>Pos</td>\n",
       "      <td>85.256410</td>\n",
       "    </tr>\n",
       "    <tr>\n",
       "      <th>2</th>\n",
       "      <td>battery</td>\n",
       "      <td>Neg</td>\n",
       "      <td>23.069936</td>\n",
       "    </tr>\n",
       "    <tr>\n",
       "      <th>3</th>\n",
       "      <td>battery</td>\n",
       "      <td>Pos</td>\n",
       "      <td>76.930064</td>\n",
       "    </tr>\n",
       "    <tr>\n",
       "      <th>4</th>\n",
       "      <td>design</td>\n",
       "      <td>Neg</td>\n",
       "      <td>7.608696</td>\n",
       "    </tr>\n",
       "    <tr>\n",
       "      <th>5</th>\n",
       "      <td>design</td>\n",
       "      <td>Pos</td>\n",
       "      <td>92.391304</td>\n",
       "    </tr>\n",
       "    <tr>\n",
       "      <th>6</th>\n",
       "      <td>display</td>\n",
       "      <td>Neg</td>\n",
       "      <td>22.020725</td>\n",
       "    </tr>\n",
       "    <tr>\n",
       "      <th>7</th>\n",
       "      <td>display</td>\n",
       "      <td>Pos</td>\n",
       "      <td>77.979275</td>\n",
       "    </tr>\n",
       "    <tr>\n",
       "      <th>8</th>\n",
       "      <td>price</td>\n",
       "      <td>Neg</td>\n",
       "      <td>17.004578</td>\n",
       "    </tr>\n",
       "    <tr>\n",
       "      <th>9</th>\n",
       "      <td>price</td>\n",
       "      <td>Pos</td>\n",
       "      <td>82.995422</td>\n",
       "    </tr>\n",
       "  </tbody>\n",
       "</table>\n",
       "</div>"
      ],
      "text/plain": [
       "   Feature Sentiment  Sentiment%\n",
       "0     band       Neg   14.743590\n",
       "1     band       Pos   85.256410\n",
       "2  battery       Neg   23.069936\n",
       "3  battery       Pos   76.930064\n",
       "4   design       Neg    7.608696\n",
       "5   design       Pos   92.391304\n",
       "6  display       Neg   22.020725\n",
       "7  display       Pos   77.979275\n",
       "8    price       Neg   17.004578\n",
       "9    price       Pos   82.995422"
      ]
     },
     "execution_count": 22,
     "metadata": {},
     "output_type": "execute_result"
    }
   ],
   "source": [
    "x"
   ]
  },
  {
   "cell_type": "code",
   "execution_count": 23,
   "id": "4c6a3157",
   "metadata": {},
   "outputs": [
    {
     "data": {
      "text/plain": [
       "<AxesSubplot:xlabel='Sentiment%', ylabel='Feature'>"
      ]
     },
     "execution_count": 23,
     "metadata": {},
     "output_type": "execute_result"
    },
    {
     "data": {
      "image/png": "[encoded data removed]",
      "text/plain": [
       "<Figure size 576x360 with 1 Axes>"
      ]
     },
     "metadata": {
      "needs_background": "light"
     },
     "output_type": "display_data"
    }
   ],
   "source": [
    "plt.figure(figsize=(8,5))\n",
    "sns.barplot(x='Sentiment%',y='Feature',data=x, hue='Sentiment', orient='h')"
   ]
  },
  {
   "cell_type": "code",
   "execution_count": 24,
   "id": "6e852ef8",
   "metadata": {},
   "outputs": [
    {
     "data": {
      "image/png": "[encoded data removed]",
      "text/plain": [
       "<Figure size 576x360 with 1 Axes>"
      ]
     },
     "metadata": {
      "needs_background": "light"
     },
     "output_type": "display_data"
    },
    {
     "data": {
      "image/png": "[encoded data removed]",
      "text/plain": [
       "<Figure size 576x360 with 1 Axes>"
      ]
     },
     "metadata": {
      "needs_background": "light"
     },
     "output_type": "display_data"
    },
    {
     "data": {
      "image/png": "[encoded data removed]",
      "text/plain": [
       "<Figure size 576x360 with 1 Axes>"
      ]
     },
     "metadata": {
      "needs_background": "light"
     },
     "output_type": "display_data"
    },
    {
     "data": {
      "image/png": "[encoded data removed]",
      "text/plain": [
       "<Figure size 576x360 with 1 Axes>"
      ]
     },
     "metadata": {
      "needs_background": "light"
     },
     "output_type": "display_data"
    },
    {
     "data": {
      "image/png": "[encoded data removed]",
      "text/plain": [
       "<Figure size 576x360 with 1 Axes>"
      ]
     },
     "metadata": {
      "needs_background": "light"
     },
     "output_type": "display_data"
    }
   ],
   "source": [
    "fig, ax = plt.subplots(figsize=(8,5))\n",
    "ax = sns.histplot(df_band[\"Polarity\"],\n",
    "                  bins=np.arange(-1,1,0.2)\n",
    "                  ).set_title('Histogram of Polarities (Aspect = \"Band\")')\n",
    "plt.show()\n",
    "fig, ax = plt.subplots(figsize=(8,5))\n",
    "ax = sns.histplot(df_battery[\"Polarity\"],\n",
    "                  bins=np.arange(-1,1,0.2)\n",
    "                  ).set_title('Histogram of Polarities (Aspect = \"Band\")')\n",
    "plt.show()\n",
    "fig, ax = plt.subplots(figsize=(8,5))\n",
    "ax = sns.histplot(df_display[\"Polarity\"],\n",
    "                  bins=np.arange(-1,1,0.2)\n",
    "                  ).set_title('Histogram of Polarities (Aspect = \"Band\")')\n",
    "plt.show()\n",
    "fig, ax = plt.subplots(figsize=(8,5))\n",
    "ax = sns.histplot(df_design[\"Polarity\"],\n",
    "                  bins=np.arange(-1,1,0.2)\n",
    "                  ).set_title('Histogram of Polarities (Aspect = \"Band\")')\n",
    "plt.show()\n",
    "fig, ax = plt.subplots(figsize=(8,5))\n",
    "ax = sns.histplot(df_price[\"Polarity\"],\n",
    "                  bins=np.arange(-1,1,0.2)\n",
    "                  ).set_title('Histogram of Polarities (Aspect = \"Band\")')\n",
    "plt.show()"
   ]
  },
  {
   "cell_type": "code",
   "execution_count": null,
   "id": "09efa3f2",
   "metadata": {},
   "outputs": [],
   "source": []
  }
 ],
 "metadata": {
  "kernelspec": {
   "display_name": "Python 3 (ipykernel)",
   "language": "python",
   "name": "python3"
  },
  "language_info": {
   "codemirror_mode": {
    "name": "ipython",
    "version": 3
   },
   "file_extension": ".py",
   "mimetype": "text/x-python",
   "name": "python",
   "nbconvert_exporter": "python",
   "pygments_lexer": "ipython3",
   "version": "3.9.7"
  }
 },
 "nbformat": 4,
 "nbformat_minor": 5
}
